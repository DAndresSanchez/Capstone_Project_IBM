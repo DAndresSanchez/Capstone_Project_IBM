{
 "cells": [
  {
   "cell_type": "markdown",
   "metadata": {},
   "source": [
    "# Battle Of Neighborhoods\n",
    "## Capstone Project\n",
    "### IBM Data Science Professional Certificate\n",
    "https://www.coursera.org/learn/applied-data-science-capstone"
   ]
  },
  {
   "cell_type": "markdown",
   "metadata": {},
   "source": [
    "#### Business problem description\n",
    "\n",
    "Which is the most recommended location for living in London assuming you want to study at Middlesex University? The accommodation needs to be close to the university, but not too far from the city centre. Supermarkets, cafes and restaurants will also be taken into consideration. However, being a student the rent is a key factor to bear in mind.\n",
    "\n",
    "London is a large city with plenty of opportunities. There are many interesting spots in this city, touristic attractions, monuments and even business areas. All these factors are important for looking for accommodation. Rental prices in London are high, the area must be chosen in a way that minimises it while still enjoying the proximity to the key locations mentioned before."
   ]
  },
  {
   "cell_type": "markdown",
   "metadata": {},
   "source": [
    "The different boroughs of London will be checked, searching for venues of interest and average rental prices.\n",
    "\n",
    "Data sources:\n",
    "- Foursquare\n",
    "- https://data.london.gov.uk/dataset/average-private-rents-borough\n",
    "- https://data.london.gov.uk/dataset/postcode-directory-for-london\n",
    "\n",
    "The accomodation must be located close to Middlesex University. Foursquare data will be used to search for venues around this location. The postcode directory of the city will be used to group the venues information and average rent per area by borough."
   ]
  },
  {
   "cell_type": "code",
   "execution_count": null,
   "metadata": {},
   "outputs": [],
   "source": []
  }
 ],
 "metadata": {
  "kernelspec": {
   "display_name": "Python 3",
   "language": "python",
   "name": "python3"
  },
  "language_info": {
   "codemirror_mode": {
    "name": "ipython",
    "version": 3
   },
   "file_extension": ".py",
   "mimetype": "text/x-python",
   "name": "python",
   "nbconvert_exporter": "python",
   "pygments_lexer": "ipython3",
   "version": "3.7.4"
  }
 },
 "nbformat": 4,
 "nbformat_minor": 2
}
